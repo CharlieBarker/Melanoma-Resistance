{
 "cells": [
  {
   "cell_type": "markdown",
   "metadata": {},
   "source": [
    "# Enrichment Analysis Visualizer\n",
    "\n",
    "This appyter creates a variety of visualizations for enrichment analysis results for one selected Enrichr library, and may be run as either a standalone appyter from the [Appyter Catalog](https://appyters.maayanlab.cloud/#/Enrichment_Analysis_Visualizer) or programmatically from the [Enrichr](https://maayanlab.cloud/Enrichr/) results page. \n",
    "\n",
    "For simplicity, the only inputs for this appyter are a gene list and one library. Other parameters are set to default values in the cell below. You can download the notebook, change these parameters, and rerun it if you wish.\n",
    "\n",
    "The pre-processed libraries used to create the scatter plot and hexagonal canvas visualizations can be found [here](https://github.com/MaayanLab/Enrichr-Viz-Appyter/tree/master/Enrichr-Processed-Library-Storage). \n",
    "\n",
    "**A link to the full analysis results on the Enrichr website can be found at the bottom of this page.**"
   ]
  },
  {
   "cell_type": "code",
   "execution_count": null,
   "metadata": {},
   "outputs": [],
   "source": []
  },
  {
   "cell_type": "code",
   "execution_count": 2,
   "metadata": {},
   "outputs": [
    {
     "data": {
      "text/html": [
       "    <style>\n",
       "        .bk-notebook-logo {\n",
       "            display: block;\n",
       "            width: 20px;\n",
       "            height: 20px;\n",
       "            background-image: url(data:image/png;base64,iVBORw0KGgoAAAANSUhEUgAAABQAAAAUCAYAAACNiR0NAAAABHNCSVQICAgIfAhkiAAAAAlwSFlzAAALEgAACxIB0t1+/AAAABx0RVh0U29mdHdhcmUAQWRvYmUgRmlyZXdvcmtzIENTNui8sowAAAOkSURBVDiNjZRtaJVlGMd/1/08zzln5zjP1LWcU9N0NkN8m2CYjpgQYQXqSs0I84OLIC0hkEKoPtiH3gmKoiJDU7QpLgoLjLIQCpEsNJ1vqUOdO7ppbuec5+V+rj4ctwzd8IIbbi6u+8f1539dt3A78eXC7QizUF7gyV1fD1Yqg4JWz84yffhm0qkFqBogB9rM8tZdtwVsPUhWhGcFJngGeWrPzHm5oaMmkfEg1usvLFyc8jLRqDOMru7AyC8saQr7GG7f5fvDeH7Ej8CM66nIF+8yngt6HWaKh7k49Soy9nXurCi1o3qUbS3zWfrYeQDTB/Qj6kX6Ybhw4B+bOYoLKCC9H3Nu/leUTZ1JdRWkkn2ldcCamzrcf47KKXdAJllSlxAOkRgyHsGC/zRday5Qld9DyoM4/q/rUoy/CXh3jzOu3bHUVZeU+DEn8FInkPBFlu3+nW3Nw0mk6vCDiWg8CeJaxEwuHS3+z5RgY+YBR6V1Z1nxSOfoaPa4LASWxxdNp+VWTk7+4vzaou8v8PN+xo+KY2xsw6une2frhw05CTYOmQvsEhjhWjn0bmXPjpE1+kplmmkP3suftwTubK9Vq22qKmrBhpY4jvd5afdRA3wGjFAgcnTK2s4hY0/GPNIb0nErGMCRxWOOX64Z8RAC4oCXdklmEvcL8o0BfkNK4lUg9HTl+oPlQxdNo3Mg4Nv175e/1LDGzZen30MEjRUtmXSfiTVu1kK8W4txyV6BMKlbgk3lMwYCiusNy9fVfvvwMxv8Ynl6vxoByANLTWplvuj/nF9m2+PDtt1eiHPBr1oIfhCChQMBw6Aw0UulqTKZdfVvfG7VcfIqLG9bcldL/+pdWTLxLUy8Qq38heUIjh4XlzZxzQm19lLFlr8vdQ97rjZVOLf8nclzckbcD4wxXMidpX30sFd37Fv/GtwwhzhxGVAprjbg0gCAEeIgwCZyTV2Z1REEW8O4py0wsjeloKoMr6iCY6dP92H6Vw/oTyICIthibxjm/DfN9lVz8IqtqKYLUXfoKVMVQVVJOElGjrnnUt9T9wbgp8AyYKaGlqingHZU/uG2NTZSVqwHQTWkx9hxjkpWDaCg6Ckj5qebgBVbT3V3NNXMSiWSDdGV3hrtzla7J+duwPOToIg42ChPQOQjspnSlp1V+Gjdged7+8UN5CRAV7a5EdFNwCjEaBR27b3W890TE7g24NAP/mMDXRWrGoFPQI9ls/MWO2dWFAar/xcOIImbbpA3zgAAAABJRU5ErkJggg==);\n",
       "        }\n",
       "    </style>\n",
       "    <div>\n",
       "        <a href=\"https://bokeh.org\" target=\"_blank\" class=\"bk-notebook-logo\"></a>\n",
       "        <span id=\"d6035c1c-3542-4e7a-936e-c8ea8885d248\">Loading BokehJS ...</span>\n",
       "    </div>\n"
      ]
     },
     "metadata": {},
     "output_type": "display_data"
    },
    {
     "data": {
      "application/javascript": "'use strict';\n(function(root) {\n  function now() {\n    return new Date();\n  }\n\n  const force = true;\n\n  if (typeof root._bokeh_onload_callbacks === \"undefined\" || force === true) {\n    root._bokeh_onload_callbacks = [];\n    root._bokeh_is_loading = undefined;\n  }\n\nconst JS_MIME_TYPE = 'application/javascript';\n  const HTML_MIME_TYPE = 'text/html';\n  const EXEC_MIME_TYPE = 'application/vnd.bokehjs_exec.v0+json';\n  const CLASS_NAME = 'output_bokeh rendered_html';\n\n  /**\n   * Render data to the DOM node\n   */\n  function render(props, node) {\n    const script = document.createElement(\"script\");\n    node.appendChild(script);\n  }\n\n  /**\n   * Handle when an output is cleared or removed\n   */\n  function handleClearOutput(event, handle) {\n    function drop(id) {\n      const view = Bokeh.index.get_by_id(id)\n      if (view != null) {\n        view.model.document.clear()\n        Bokeh.index.delete(view)\n      }\n    }\n\n    const cell = handle.cell;\n\n    const id = cell.output_area._bokeh_element_id;\n    const server_id = cell.output_area._bokeh_server_id;\n\n    // Clean up Bokeh references\n    if (id != null) {\n      drop(id)\n    }\n\n    if (server_id !== undefined) {\n      // Clean up Bokeh references\n      const cmd_clean = \"from bokeh.io.state import curstate; print(curstate().uuid_to_server['\" + server_id + \"'].get_sessions()[0].document.roots[0]._id)\";\n      cell.notebook.kernel.execute(cmd_clean, {\n        iopub: {\n          output: function(msg) {\n            const id = msg.content.text.trim()\n            drop(id)\n          }\n        }\n      });\n      // Destroy server and session\n      const cmd_destroy = \"import bokeh.io.notebook as ion; ion.destroy_server('\" + server_id + \"')\";\n      cell.notebook.kernel.execute(cmd_destroy);\n    }\n  }\n\n  /**\n   * Handle when a new output is added\n   */\n  function handleAddOutput(event, handle) {\n    const output_area = handle.output_area;\n    const output = handle.output;\n\n    // limit handleAddOutput to display_data with EXEC_MIME_TYPE content only\n    if ((output.output_type != \"display_data\") || (!Object.prototype.hasOwnProperty.call(output.data, EXEC_MIME_TYPE))) {\n      return\n    }\n\n    const toinsert = output_area.element.find(\".\" + CLASS_NAME.split(' ')[0]);\n\n    if (output.metadata[EXEC_MIME_TYPE][\"id\"] !== undefined) {\n      toinsert[toinsert.length - 1].firstChild.textContent = output.data[JS_MIME_TYPE];\n      // store reference to embed id on output_area\n      output_area._bokeh_element_id = output.metadata[EXEC_MIME_TYPE][\"id\"];\n    }\n    if (output.metadata[EXEC_MIME_TYPE][\"server_id\"] !== undefined) {\n      const bk_div = document.createElement(\"div\");\n      bk_div.innerHTML = output.data[HTML_MIME_TYPE];\n      const script_attrs = bk_div.children[0].attributes;\n      for (let i = 0; i < script_attrs.length; i++) {\n        toinsert[toinsert.length - 1].firstChild.setAttribute(script_attrs[i].name, script_attrs[i].value);\n        toinsert[toinsert.length - 1].firstChild.textContent = bk_div.children[0].textContent\n      }\n      // store reference to server id on output_area\n      output_area._bokeh_server_id = output.metadata[EXEC_MIME_TYPE][\"server_id\"];\n    }\n  }\n\n  function register_renderer(events, OutputArea) {\n\n    function append_mime(data, metadata, element) {\n      // create a DOM node to render to\n      const toinsert = this.create_output_subarea(\n        metadata,\n        CLASS_NAME,\n        EXEC_MIME_TYPE\n      );\n      this.keyboard_manager.register_events(toinsert);\n      // Render to node\n      const props = {data: data, metadata: metadata[EXEC_MIME_TYPE]};\n      render(props, toinsert[toinsert.length - 1]);\n      element.append(toinsert);\n      return toinsert\n    }\n\n    /* Handle when an output is cleared or removed */\n    events.on('clear_output.CodeCell', handleClearOutput);\n    events.on('delete.Cell', handleClearOutput);\n\n    /* Handle when a new output is added */\n    events.on('output_added.OutputArea', handleAddOutput);\n\n    /**\n     * Register the mime type and append_mime function with output_area\n     */\n    OutputArea.prototype.register_mime_type(EXEC_MIME_TYPE, append_mime, {\n      /* Is output safe? */\n      safe: true,\n      /* Index of renderer in `output_area.display_order` */\n      index: 0\n    });\n  }\n\n  // register the mime type if in Jupyter Notebook environment and previously unregistered\n  if (root.Jupyter !== undefined) {\n    const events = require('base/js/events');\n    const OutputArea = require('notebook/js/outputarea').OutputArea;\n\n    if (OutputArea.prototype.mime_types().indexOf(EXEC_MIME_TYPE) == -1) {\n      register_renderer(events, OutputArea);\n    }\n  }\n  if (typeof (root._bokeh_timeout) === \"undefined\" || force === true) {\n    root._bokeh_timeout = Date.now() + 5000;\n    root._bokeh_failed_load = false;\n  }\n\n  const NB_LOAD_WARNING = {'data': {'text/html':\n     \"<div style='background-color: #fdd'>\\n\"+\n     \"<p>\\n\"+\n     \"BokehJS does not appear to have successfully loaded. If loading BokehJS from CDN, this \\n\"+\n     \"may be due to a slow or bad network connection. Possible fixes:\\n\"+\n     \"</p>\\n\"+\n     \"<ul>\\n\"+\n     \"<li>re-rerun `output_notebook()` to attempt to load from CDN again, or</li>\\n\"+\n     \"<li>use INLINE resources instead, as so:</li>\\n\"+\n     \"</ul>\\n\"+\n     \"<code>\\n\"+\n     \"from bokeh.resources import INLINE\\n\"+\n     \"output_notebook(resources=INLINE)\\n\"+\n     \"</code>\\n\"+\n     \"</div>\"}};\n\n  function display_loaded(error = null) {\n    const el = document.getElementById(\"d6035c1c-3542-4e7a-936e-c8ea8885d248\");\n    if (el != null) {\n      const html = (() => {\n        if (typeof root.Bokeh === \"undefined\") {\n          if (error == null) {\n            return \"BokehJS is loading ...\";\n          } else {\n            return \"BokehJS failed to load.\";\n          }\n        } else {\n          const prefix = `BokehJS ${root.Bokeh.version}`;\n          if (error == null) {\n            return `${prefix} successfully loaded.`;\n          } else {\n            return `${prefix} <b>encountered errors</b> while loading and may not function as expected.`;\n          }\n        }\n      })();\n      el.innerHTML = html;\n\n      if (error != null) {\n        const wrapper = document.createElement(\"div\");\n        wrapper.style.overflow = \"auto\";\n        wrapper.style.height = \"5em\";\n        wrapper.style.resize = \"vertical\";\n        const content = document.createElement(\"div\");\n        content.style.fontFamily = \"monospace\";\n        content.style.whiteSpace = \"pre-wrap\";\n        content.style.backgroundColor = \"rgb(255, 221, 221)\";\n        content.textContent = error.stack ?? error.toString();\n        wrapper.append(content);\n        el.append(wrapper);\n      }\n    } else if (Date.now() < root._bokeh_timeout) {\n      setTimeout(() => display_loaded(error), 100);\n    }\n  }\n\n  function run_callbacks() {\n    try {\n      root._bokeh_onload_callbacks.forEach(function(callback) {\n        if (callback != null)\n          callback();\n      });\n    } finally {\n      delete root._bokeh_onload_callbacks\n    }\n    console.debug(\"Bokeh: all callbacks have finished\");\n  }\n\n  function load_libs(css_urls, js_urls, callback) {\n    if (css_urls == null) css_urls = [];\n    if (js_urls == null) js_urls = [];\n\n    root._bokeh_onload_callbacks.push(callback);\n    if (root._bokeh_is_loading > 0) {\n      console.debug(\"Bokeh: BokehJS is being loaded, scheduling callback at\", now());\n      return null;\n    }\n    if (js_urls == null || js_urls.length === 0) {\n      run_callbacks();\n      return null;\n    }\n    console.debug(\"Bokeh: BokehJS not loaded, scheduling load and callback at\", now());\n    root._bokeh_is_loading = css_urls.length + js_urls.length;\n\n    function on_load() {\n      root._bokeh_is_loading--;\n      if (root._bokeh_is_loading === 0) {\n        console.debug(\"Bokeh: all BokehJS libraries/stylesheets loaded\");\n        run_callbacks()\n      }\n    }\n\n    function on_error(url) {\n      console.error(\"failed to load \" + url);\n    }\n\n    for (let i = 0; i < css_urls.length; i++) {\n      const url = css_urls[i];\n      const element = document.createElement(\"link\");\n      element.onload = on_load;\n      element.onerror = on_error.bind(null, url);\n      element.rel = \"stylesheet\";\n      element.type = \"text/css\";\n      element.href = url;\n      console.debug(\"Bokeh: injecting link tag for BokehJS stylesheet: \", url);\n      document.body.appendChild(element);\n    }\n\n    for (let i = 0; i < js_urls.length; i++) {\n      const url = js_urls[i];\n      const element = document.createElement('script');\n      element.onload = on_load;\n      element.onerror = on_error.bind(null, url);\n      element.async = false;\n      element.src = url;\n      console.debug(\"Bokeh: injecting script tag for BokehJS library: \", url);\n      document.head.appendChild(element);\n    }\n  };\n\n  function inject_raw_css(css) {\n    const element = document.createElement(\"style\");\n    element.appendChild(document.createTextNode(css));\n    document.body.appendChild(element);\n  }\n\n  const js_urls = [\"https://cdn.bokeh.org/bokeh/release/bokeh-3.4.1.min.js\", \"https://cdn.bokeh.org/bokeh/release/bokeh-gl-3.4.1.min.js\", \"https://cdn.bokeh.org/bokeh/release/bokeh-widgets-3.4.1.min.js\", \"https://cdn.bokeh.org/bokeh/release/bokeh-tables-3.4.1.min.js\", \"https://cdn.bokeh.org/bokeh/release/bokeh-mathjax-3.4.1.min.js\"];\n  const css_urls = [];\n\n  const inline_js = [    function(Bokeh) {\n      Bokeh.set_log_level(\"info\");\n    },\nfunction(Bokeh) {\n    }\n  ];\n\n  function run_inline_js() {\n    if (root.Bokeh !== undefined || force === true) {\n      try {\n            for (let i = 0; i < inline_js.length; i++) {\n      inline_js[i].call(root, root.Bokeh);\n    }\n\n      } catch (error) {display_loaded(error);throw error;\n      }if (force === true) {\n        display_loaded();\n      }} else if (Date.now() < root._bokeh_timeout) {\n      setTimeout(run_inline_js, 100);\n    } else if (!root._bokeh_failed_load) {\n      console.log(\"Bokeh: BokehJS failed to load within specified timeout.\");\n      root._bokeh_failed_load = true;\n    } else if (force !== true) {\n      const cell = $(document.getElementById(\"d6035c1c-3542-4e7a-936e-c8ea8885d248\")).parents('.cell').data().cell;\n      cell.output_area.append_execute_result(NB_LOAD_WARNING)\n    }\n  }\n\n  if (root._bokeh_is_loading === 0) {\n    console.debug(\"Bokeh: BokehJS loaded, going straight to plotting\");\n    run_inline_js();\n  } else {\n    load_libs(css_urls, js_urls, function() {\n      console.debug(\"Bokeh: BokehJS plotting callback run at\", now());\n      run_inline_js();\n    });\n  }\n}(window));",
      "application/vnd.bokehjs_load.v0+json": ""
     },
     "metadata": {},
     "output_type": "display_data"
    }
   ],
   "source": [
    "# Scatter Plot Imports\n",
    "from maayanlab_bioinformatics.enrichment import enrich_crisp\n",
    "import matplotlib as mpl\n",
    "\n",
    "# Bar Chart Imports\n",
    "import pandas as pd \n",
    "import numpy as np\n",
    "import json\n",
    "import requests\n",
    "import matplotlib.pyplot as plt\n",
    "import matplotlib.colors as colors\n",
    "import seaborn as sns\n",
    "import time\n",
    "from matplotlib.ticker import MaxNLocator\n",
    "from IPython.display import display, FileLink, HTML, Markdown\n",
    "\n",
    "# Hexagonal Canvas Imports\n",
    "import math\n",
    "import uuid\n",
    "import urllib\n",
    "from textwrap import dedent\n",
    "from string import Template\n",
    "from operator import itemgetter\n",
    "\n",
    "# Bokeh\n",
    "from bokeh.io import output_notebook\n",
    "from bokeh.plotting import figure, show\n",
    "from bokeh.models import HoverTool, ColumnDataSource\n",
    "from bokeh.palettes import Category20\n",
    "output_notebook()"
   ]
  },
  {
   "cell_type": "code",
   "execution_count": 3,
   "metadata": {},
   "outputs": [],
   "source": [
    "gene_list_input = ['SMARCA1', 'FRS2', 'ATG14', 'ATG13', 'SRRM2', 'PML', 'ZFYVE16', 'KATNAL2', 'TEK', 'ASF1A', 'ULK1', 'CDK13', 'ASB6', 'RB1', 'PRKAA2', 'CCNK', 'SATB2', 'ARPC5L', 'PRKAA1', 'CRKL', 'DPYSL2', 'RBM15B', 'DPYSL5', 'CHEK1', 'BSG', 'DPYSL3', 'DPYSL4', 'AKT1', 'TIPIN', 'INSR', 'PRKCB', 'PRKCA', 'BAZ1B', 'ARFGAP2', 'PBX1', 'PTK2', 'BTC', 'TPX2', 'PIK3R1', 'GRB2', 'HOXB9', 'C9ORF72', 'FOXE1', 'PRKDC', 'ELK1', 'ICAM1', 'LARP1', 'SOX2', 'SNRNP70', 'MLST8', 'SYNPO', 'APOB', 'LYN', 'EDN1', 'VEGFC', 'PRPF40A', 'TUBB2A', 'NCOR1', 'CEACAM1', 'MAPT', 'KLHL9', 'ACTR10', 'LIMS1', 'POT1', 'ARPC1A', 'DDR1', 'MTTP', 'SDC4', 'PEA15', 'TGFA', 'ADRB2', 'FXR2', 'BCLAF1', 'GAR1', 'TMED3', 'BRD4', 'SVIL', 'CSNK2A2', 'CSNK2A1', 'RPA2', 'RPA3', 'RRP1B', 'RPA1', 'HCK', 'NFIB', 'CTTN', 'NFIC', 'C21ORF2', 'TIMELESS', 'HBEGF', 'CD44', 'FOXA3', 'FOXA1', 'DPYS', 'PRKAG3', 'RSF1', 'ASH2L', 'TCTN3', 'ENPP1', 'RIOK1', 'AP3S2', 'RICTOR', 'PTPN1', 'SEC24A', 'CAPZA2', 'PPIG', 'ROR1', 'PTPN6', 'CD81', 'AURKA', 'PRKX', 'EGFR', 'ARHGAP44', 'AP3M2', 'RBBP5', 'SH3BP1', 'AP3M1', 'TRAPPC2L', 'TRAPPC3', 'TRAPPC4', 'TRAPPC1', 'NEK5', 'TRAPPC8', 'PRNP', 'HGF', 'TNFRSF10A', 'EEF2', 'REEP5', 'EIF4G1', 'CSF1R', 'PXN', 'CUL5', 'KMT2D', 'RIF1', 'KLHL13', 'RLF', 'DPY30', 'ARHGAP17', 'ETS1', 'IGF1R', 'CHAF1A', 'EEF2K', 'HELB', 'CLSPN', 'SNIP1', 'NEK1', 'EIF4EBP2', 'ZC3H18', 'ABL1', 'CBX5', 'ITGA4', 'CBX3', 'SMARCE1', 'PARVB', 'HMGA1', 'TICRR', 'MERTK', 'THRAP3', 'SMCR8', 'PLEC', 'EIF4E2', 'BCAR1', 'RTN3', 'KDM5C', 'EIF4B', 'GSK3A', 'UBA5', 'CHD8', 'CHD7', 'TARS', 'FOXK1', 'GHR', 'PAGR1', 'DNAJB2', 'P2RY6', 'ERBB2', 'GRK7', 'DVL2', 'ERBB3', 'HIST1H1A', 'EIF4E', 'MDN1', 'NTRK2', 'NTRK3', 'SMARCC2', 'KDM2A', 'SGTB', 'KATNA1', 'NGF', 'MTOR', 'KLHL42', 'TBC1D5', 'PEAK1', 'MET', 'CRK', 'ERCC6', 'BET1', 'ZMYND8', 'FLT1', 'SMARCD3', 'SRC', 'DCTN4', 'RB1CC1', 'AMBRA1', 'SPRED1', 'POLR2A', 'BAHD1', 'TRA2B', 'UBQLN1', 'NCK1', 'NCK2']\n",
    "enrichr_library = 'BioPlanet_2019'\n",
    "genes = [x.strip() for x in gene_list_input]"
   ]
  },
  {
   "cell_type": "code",
   "execution_count": 4,
   "metadata": {},
   "outputs": [],
   "source": [
    "# Error handling\n",
    "class NoResults(Exception):\n",
    "    pass \n",
    "class APIFailure(Exception):\n",
    "    pass"
   ]
  },
  {
   "cell_type": "code",
   "execution_count": 5,
   "metadata": {},
   "outputs": [],
   "source": [
    "# Enrichr API Function for Manhattan Plot and Bar Chart\n",
    "# Takes a gene list and Enrichr libraries as input\n",
    "def Enrichr_API(enrichr_gene_list, all_libraries):\n",
    "\n",
    "    all_terms = []\n",
    "    all_pvalues =[] \n",
    "    all_adjusted_pvalues = []\n",
    "\n",
    "    for library_name in all_libraries : \n",
    "        ENRICHR_URL = 'https://maayanlab.cloud/Enrichr/addList'\n",
    "        genes_str = '\\n'.join(enrichr_gene_list)\n",
    "        description = ''\n",
    "        payload = {\n",
    "            'list': (None, genes_str),\n",
    "            'description': (None, description)\n",
    "        }\n",
    "\n",
    "        response = requests.post(ENRICHR_URL, files=payload)\n",
    "        if not response.ok:\n",
    "            raise APIFailure\n",
    "\n",
    "        data = json.loads(response.text)\n",
    "        time.sleep(0.5)\n",
    "        ENRICHR_URL = 'https://maayanlab.cloud/Enrichr/enrich'\n",
    "        query_string = '?userListId=%s&backgroundType=%s'\n",
    "        user_list_id = data['userListId']\n",
    "        short_id = data[\"shortId\"]\n",
    "        gene_set_library = library_name\n",
    "        response = requests.get(\n",
    "            ENRICHR_URL + query_string % (user_list_id, gene_set_library)\n",
    "         )\n",
    "        if not response.ok:\n",
    "            raise APIFailure\n",
    "\n",
    "        data = json.loads(response.text)\n",
    "\n",
    "        if len(data[library_name]) == 0:\n",
    "            raise NoResults\n",
    "\n",
    "        short_results_df  = pd.DataFrame(data[library_name][0:10])\n",
    "        all_terms.append(list(short_results_df[1]))\n",
    "        all_pvalues.append(list(short_results_df[2]))\n",
    "        all_adjusted_pvalues.append(list(short_results_df[6]))\n",
    "        \n",
    "        results_df  = pd.DataFrame(data[library_name])\n",
    "        # adds library name to the data frame so the libraries can be distinguished\n",
    "        results_df['library'] = library_name.replace('_', '')\n",
    "\n",
    "    return [results_df, short_results_df, all_terms, all_pvalues, all_adjusted_pvalues, str(short_id)]"
   ]
  },
  {
   "cell_type": "code",
   "execution_count": 6,
   "metadata": {},
   "outputs": [],
   "source": [
    "# Scatter Plot Parameters\n",
    "significance_value = 0.05\n",
    "\n",
    "# Bar Chart Parameters\n",
    "figure_file_format = ['png', 'svg']\n",
    "output_file_name = 'Enrichr_results_bar'\n",
    "color = 'lightskyblue'\n",
    "final_output_file_names = ['{0}.{1}'.format(output_file_name, file_type) for file_type in figure_file_format]\n",
    "\n",
    "# Hexagonal Canvas Parameters\n",
    "canvas_color = 'Blue'\n",
    "num_hex_colored = 10\n",
    "\n",
    "# Manhattan Plot Parameters\n",
    "manhattan_colors = ['#003f5c', '#7a5195', '#ef5675', '#ffa600']"
   ]
  },
  {
   "cell_type": "code",
   "execution_count": 7,
   "metadata": {},
   "outputs": [],
   "source": [
    "def get_library(lib_name):\n",
    "    '''\n",
    "    Returns a dictionary mapping each term from the input library to \n",
    "    its associated geneset. \n",
    "    '''\n",
    "    raw_lib_data = []\n",
    "\n",
    "    with urllib.request.urlopen('https://maayanlab.cloud/Enrichr/geneSetLibrary?mode=text&libraryName=' + lib_name) as f:\n",
    "        for line in f.readlines():\n",
    "            raw_lib_data.append(line.decode(\"utf-8\").split(\"\\t\\t\"))\n",
    "\n",
    "    name = []\n",
    "    gene_list = []\n",
    "    lib_data = {}\n",
    "\n",
    "    for i in range(len(raw_lib_data)):\n",
    "        name += [raw_lib_data[i][0]]\n",
    "        raw_genes = raw_lib_data[i][1].replace('\\t', ' ')\n",
    "        gene_list += [raw_genes[:-1]]\n",
    "    \n",
    "    lib_data = {a[0]:a[1].split(' ') for a in zip(name, gene_list)}\n",
    "    return lib_data\n",
    "\n",
    "\n",
    "def volcano_plot(library_name, lib):\n",
    "    '''\n",
    "    Make volcano plot of odds ratio vs. significance for input library.\n",
    "    '''\n",
    "    enrich_results = enrich_crisp(genes, lib, 21000, True)\n",
    "\n",
    "    res_df = pd.DataFrame(\n",
    "        [ [\n",
    "            term, \n",
    "            res.pvalue, \n",
    "            res.odds_ratio\n",
    "        ] for (term, res) in enrich_results ], \n",
    "        columns=['term', 'pvalue', 'odds_ratio']\n",
    "    )\n",
    "\n",
    "    res_df['log_pval'] = np.negative(np.log10(res_df['pvalue']))\n",
    "\n",
    "    return res_df"
   ]
  },
  {
   "cell_type": "code",
   "execution_count": 8,
   "metadata": {},
   "outputs": [],
   "source": [
    "lib_data = get_library(enrichr_library)\n",
    "plot = volcano_plot(enrichr_library, lib_data)\n",
    "plot.to_csv('volcano_plot_data.csv', index=False)"
   ]
  },
  {
   "cell_type": "code",
   "execution_count": null,
   "metadata": {},
   "outputs": [],
   "source": []
  }
 ],
 "metadata": {
  "kernelspec": {
   "display_name": "enrichr",
   "language": "python",
   "name": "python3"
  },
  "language_info": {
   "codemirror_mode": {
    "name": "ipython",
    "version": 3
   },
   "file_extension": ".py",
   "mimetype": "text/x-python",
   "name": "python",
   "nbconvert_exporter": "python",
   "pygments_lexer": "ipython3",
   "version": "3.11.8"
  }
 },
 "nbformat": 4,
 "nbformat_minor": 2
}
